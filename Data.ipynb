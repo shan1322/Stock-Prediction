{
 "cells": [
  {
   "cell_type": "code",
   "execution_count": 31,
   "metadata": {},
   "outputs": [],
   "source": [
    "import pandas as pd\n",
    "import numpy as np"
   ]
  },
  {
   "cell_type": "code",
   "execution_count": 75,
   "metadata": {},
   "outputs": [
    {
     "data": {
      "text/html": [
       "<div>\n",
       "<style>\n",
       "    .dataframe thead tr:only-child th {\n",
       "        text-align: right;\n",
       "    }\n",
       "\n",
       "    .dataframe thead th {\n",
       "        text-align: left;\n",
       "    }\n",
       "\n",
       "    .dataframe tbody tr th {\n",
       "        vertical-align: top;\n",
       "    }\n",
       "</style>\n",
       "<table border=\"1\" class=\"dataframe\">\n",
       "  <thead>\n",
       "    <tr style=\"text-align: right;\">\n",
       "      <th></th>\n",
       "      <th>Open</th>\n",
       "      <th>High</th>\n",
       "      <th>Low</th>\n",
       "      <th>Close</th>\n",
       "      <th>Volume</th>\n",
       "      <th>OpenInt</th>\n",
       "    </tr>\n",
       "  </thead>\n",
       "  <tbody>\n",
       "    <tr>\n",
       "      <th>0</th>\n",
       "      <td>43.011</td>\n",
       "      <td>43.011</td>\n",
       "      <td>43.011</td>\n",
       "      <td>43.011</td>\n",
       "      <td>5.09</td>\n",
       "      <td>0</td>\n",
       "    </tr>\n",
       "    <tr>\n",
       "      <th>1</th>\n",
       "      <td>43.162</td>\n",
       "      <td>43.162</td>\n",
       "      <td>43.162</td>\n",
       "      <td>43.162</td>\n",
       "      <td>1.13</td>\n",
       "      <td>0</td>\n",
       "    </tr>\n",
       "    <tr>\n",
       "      <th>2</th>\n",
       "      <td>43.956</td>\n",
       "      <td>43.956</td>\n",
       "      <td>43.956</td>\n",
       "      <td>43.956</td>\n",
       "      <td>2.27</td>\n",
       "      <td>0</td>\n",
       "    </tr>\n",
       "    <tr>\n",
       "      <th>3</th>\n",
       "      <td>43.885</td>\n",
       "      <td>43.885</td>\n",
       "      <td>43.885</td>\n",
       "      <td>43.885</td>\n",
       "      <td>12.48</td>\n",
       "      <td>0</td>\n",
       "    </tr>\n",
       "    <tr>\n",
       "      <th>4</th>\n",
       "      <td>45.880</td>\n",
       "      <td>45.880</td>\n",
       "      <td>44.555</td>\n",
       "      <td>44.555</td>\n",
       "      <td>2.27</td>\n",
       "      <td>0</td>\n",
       "    </tr>\n",
       "  </tbody>\n",
       "</table>\n",
       "</div>"
      ],
      "text/plain": [
       "     Open    High     Low   Close  Volume  OpenInt\n",
       "0  43.011  43.011  43.011  43.011    5.09        0\n",
       "1  43.162  43.162  43.162  43.162    1.13        0\n",
       "2  43.956  43.956  43.956  43.956    2.27        0\n",
       "3  43.885  43.885  43.885  43.885   12.48        0\n",
       "4  45.880  45.880  44.555  44.555    2.27        0"
      ]
     },
     "execution_count": 75,
     "metadata": {},
     "output_type": "execute_result"
    }
   ],
   "source": [
    "#Pre processing of data\n",
    "df = pd.read_csv('data/data1.csv')\n",
    "df = df.drop('Date',1)\n",
    "col_list.remove('Volume')\n",
    "col_list = df.columns.tolist()\n",
    "df['Volume'] = df['Volume'] / 100\n",
    "df.to_csv(\"data/proce.csv\", index=False)\n",
    "validate_df = pd.read_csv('data/proce.csv')\n",
    "validate_df.head()"
   ]
  },
  {
   "cell_type": "code",
   "execution_count": null,
   "metadata": {},
   "outputs": [],
   "source": []
  },
  {
   "cell_type": "code",
   "execution_count": null,
   "metadata": {},
   "outputs": [],
   "source": []
  }
 ],
 "metadata": {
  "kernelspec": {
   "display_name": "Python 3",
   "language": "python",
   "name": "python3"
  },
  "language_info": {
   "codemirror_mode": {
    "name": "ipython",
    "version": 3
   },
   "file_extension": ".py",
   "mimetype": "text/x-python",
   "name": "python",
   "nbconvert_exporter": "python",
   "pygments_lexer": "ipython3",
   "version": "3.6.5"
  }
 },
 "nbformat": 4,
 "nbformat_minor": 2
}
